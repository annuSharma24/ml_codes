{
 "cells": [
  {
   "cell_type": "code",
   "execution_count": 1,
   "id": "f661ef12",
   "metadata": {},
   "outputs": [],
   "source": [
    "import pandas as pd\n",
    "from sklearn.model_selection import train_test_split\n",
    "from sklearn.ensemble import RandomForestClassifier\n",
    "from sklearn.metrics import accuracy_score, classification_report"
   ]
  },
  {
   "cell_type": "code",
   "execution_count": 2,
   "id": "780d8b73",
   "metadata": {},
   "outputs": [],
   "source": [
    "data = pd.read_csv('car_evaluation.csv')"
   ]
  },
  {
   "cell_type": "code",
   "execution_count": 3,
   "id": "6400cf14",
   "metadata": {},
   "outputs": [],
   "source": [
    "replacement_map = {'vhigh': 4, 'high': 3, 'med': 2, 'low': 1}\n",
    "data['buying'] = data['buying'].replace(replacement_map)"
   ]
  },
  {
   "cell_type": "code",
   "execution_count": 4,
   "id": "f85af6af",
   "metadata": {},
   "outputs": [],
   "source": [
    "replacement_map = {'vhigh': 4, 'high': 3, 'med': 2, 'low': 1}\n",
    "data['maint'] = data['maint'].replace(replacement_map)"
   ]
  },
  {
   "cell_type": "code",
   "execution_count": 5,
   "id": "61c9d4ec",
   "metadata": {},
   "outputs": [],
   "source": [
    "replacement_map = {'small': 1, 'med': 2, 'big': 3}\n",
    "data['lug_boot'] = data['lug_boot'].replace(replacement_map)"
   ]
  },
  {
   "cell_type": "code",
   "execution_count": 6,
   "id": "e49a6262",
   "metadata": {},
   "outputs": [],
   "source": [
    "data = data[~data.apply(lambda row: row.astype(str).str.contains('5more|more').any(), axis=1)]"
   ]
  },
  {
   "cell_type": "code",
   "execution_count": 7,
   "id": "39cc1f78",
   "metadata": {},
   "outputs": [],
   "source": [
    "X = data.drop('safety', axis=1)\n",
    "y = data['safety']"
   ]
  },
  {
   "cell_type": "code",
   "execution_count": 8,
   "id": "71aa89bb",
   "metadata": {},
   "outputs": [],
   "source": [
    "X_train, X_test, y_train, y_test = train_test_split(X, y, test_size=0.2, random_state=42)"
   ]
  },
  {
   "cell_type": "code",
   "execution_count": 9,
   "id": "0da1021a",
   "metadata": {},
   "outputs": [
    {
     "data": {
      "text/plain": [
       "RandomForestClassifier(random_state=42)"
      ]
     },
     "execution_count": 9,
     "metadata": {},
     "output_type": "execute_result"
    }
   ],
   "source": [
    "random_forest_classifier = RandomForestClassifier(n_estimators=100, random_state=42)\n",
    "random_forest_classifier.fit(X_train, y_train)"
   ]
  },
  {
   "cell_type": "code",
   "execution_count": 10,
   "id": "fe0b75b0",
   "metadata": {},
   "outputs": [],
   "source": [
    "y_pred = random_forest_classifier.predict(X_test)"
   ]
  },
  {
   "cell_type": "code",
   "execution_count": 11,
   "id": "58ee59e6",
   "metadata": {},
   "outputs": [
    {
     "name": "stdout",
     "output_type": "stream",
     "text": [
      "Accuracy: 0.023121387283236993\n",
      "Classification Report:\n",
      "              precision    recall  f1-score   support\n",
      "\n",
      "        high       0.02      0.02      0.02        54\n",
      "         low       0.03      0.03      0.03        58\n",
      "         med       0.02      0.02      0.02        61\n",
      "\n",
      "    accuracy                           0.02       173\n",
      "   macro avg       0.02      0.02      0.02       173\n",
      "weighted avg       0.02      0.02      0.02       173\n",
      "\n"
     ]
    }
   ],
   "source": [
    "accuracy = accuracy_score(y_test, y_pred)\n",
    "\n",
    "classification_rep = classification_report(y_test, y_pred)\n",
    "\n",
    "print(f'Accuracy: {accuracy}')\n",
    "\n",
    "print('Classification Report:')\n",
    "print(classification_rep)"
   ]
  },
  {
   "cell_type": "code",
   "execution_count": 14,
   "id": "075344f3",
   "metadata": {},
   "outputs": [],
   "source": [
    "new_data = pd.DataFrame({\n",
    "    'buying': ['4'],\n",
    "    'maint': ['1'],\n",
    "    'doors': [2],\n",
    "    'persons': [2],\n",
    "    'lug_boot': ['1']\n",
    "})"
   ]
  },
  {
   "cell_type": "code",
   "execution_count": 15,
   "id": "7b288cae",
   "metadata": {},
   "outputs": [
    {
     "name": "stdout",
     "output_type": "stream",
     "text": [
      "Predicted Safety Category for New Data:\n",
      "['low']\n"
     ]
    }
   ],
   "source": [
    "predictions = random_forest_classifier.predict(new_data)\n",
    "\n",
    "# Print the predictions\n",
    "print('Predicted Safety Category for New Data:')\n",
    "print(predictions)"
   ]
  },
  {
   "cell_type": "code",
   "execution_count": 16,
   "id": "aed5b3fd",
   "metadata": {},
   "outputs": [
    {
     "name": "stdout",
     "output_type": "stream",
     "text": [
      "Best Hyperparameters: {'max_depth': 10, 'min_samples_leaf': 4, 'min_samples_split': 10, 'n_estimators': 300}\n",
      "Accuracy: 0.03468208092485549\n",
      "Classification Report:\n",
      "              precision    recall  f1-score   support\n",
      "\n",
      "        high       0.00      0.00      0.00        54\n",
      "         low       0.09      0.10      0.10        58\n",
      "         med       0.00      0.00      0.00        61\n",
      "\n",
      "    accuracy                           0.03       173\n",
      "   macro avg       0.03      0.03      0.03       173\n",
      "weighted avg       0.03      0.03      0.03       173\n",
      "\n"
     ]
    }
   ],
   "source": [
    "import pandas as pd\n",
    "from sklearn.model_selection import train_test_split, GridSearchCV\n",
    "from sklearn.ensemble import RandomForestClassifier\n",
    "from sklearn.metrics import accuracy_score, classification_report\n",
    "\n",
    "# Read the dataset\n",
    "data = pd.read_csv('car_evaluation.csv')\n",
    "\n",
    "# Data Preprocessing\n",
    "replacement_map = {'vhigh': 4, 'high': 3, 'med': 2, 'low': 1}\n",
    "data['buying'] = data['buying'].replace(replacement_map)\n",
    "data['maint'] = data['maint'].replace(replacement_map)\n",
    "replacement_map = {'small': 1, 'med': 2, 'big': 3}\n",
    "data['lug_boot'] = data['lug_boot'].replace(replacement_map)\n",
    "data = data[~data.apply(lambda row: row.astype(str).str.contains('5more|more').any(), axis=1)]\n",
    "\n",
    "# Split the data into features (X) and the target (y)\n",
    "X = data.drop('safety', axis=1)\n",
    "y = data['safety']\n",
    "\n",
    "# Split the data into training and testing sets\n",
    "X_train, X_test, y_train, y_test = train_test_split(X, y, test_size=0.2, random_state=42)\n",
    "\n",
    "# Hyperparameter tuning using GridSearchCV\n",
    "param_grid = {\n",
    "    'n_estimators': [100, 200, 300, 400, 500, 600, 700],\n",
    "    'max_depth': [10, 20, None],\n",
    "    'min_samples_split': [2, 5, 10],\n",
    "    'min_samples_leaf': [1, 2, 4]\n",
    "}\n",
    "\n",
    "rf_classifier = RandomForestClassifier(random_state=42)\n",
    "grid_search = GridSearchCV(estimator=rf_classifier, param_grid=param_grid, cv=5, scoring='accuracy', n_jobs=-1)\n",
    "grid_search.fit(X_train, y_train)\n",
    "\n",
    "best_params = grid_search.best_params_\n",
    "best_rf_classifier = grid_search.best_estimator_\n",
    "\n",
    "# Fit the model on the training data with the best hyperparameters\n",
    "best_rf_classifier.fit(X_train, y_train)\n",
    "\n",
    "# Make predictions on the test data\n",
    "y_pred = best_rf_classifier.predict(X_test)\n",
    "\n",
    "# Calculate accuracy and print the classification report\n",
    "accuracy = accuracy_score(y_test, y_pred)\n",
    "classification_rep = classification_report(y_test, y_pred)\n",
    "\n",
    "print(f'Best Hyperparameters: {best_params}')\n",
    "print(f'Accuracy: {accuracy}')\n",
    "print('Classification Report:')\n",
    "print(classification_rep)"
   ]
  },
  {
   "cell_type": "code",
   "execution_count": null,
   "id": "eb1a430d",
   "metadata": {},
   "outputs": [],
   "source": []
  }
 ],
 "metadata": {
  "kernelspec": {
   "display_name": "Python 3 (ipykernel)",
   "language": "python",
   "name": "python3"
  },
  "language_info": {
   "codemirror_mode": {
    "name": "ipython",
    "version": 3
   },
   "file_extension": ".py",
   "mimetype": "text/x-python",
   "name": "python",
   "nbconvert_exporter": "python",
   "pygments_lexer": "ipython3",
   "version": "3.8.5"
  }
 },
 "nbformat": 4,
 "nbformat_minor": 5
}
